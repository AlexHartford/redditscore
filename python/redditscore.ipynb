{
 "cells": [
  {
   "cell_type": "markdown",
   "metadata": {},
   "source": [
    "# <a href=\"http://www.redditscore.com\">![redditscore](https://s3.us-east-2.amazonaws.com/redditscore/logo.png)</a> \n",
    "***A machine learning approach to predicting how badly you'll get roasted for your sub-par reddit comments.***\n",
    "\n",
    "Alex Hartford & Trevor Hacker\n",
    "\n",
    "### **Dataset**\n",
    "\n",
    "Reddit comments from September, 2018 (<a href=\"http://files.pushshift.io/reddit/\">source</a>).  This is well over 100gb of data.  We will likely only use a subset of the data but will ultimately try to use the entire dataset.\n",
    "\n",
    "### **Objectives**\n",
    "\n",
    "Create a linear regression model to predict the reddit score of a comment a user is considering posting. \n",
    "\n",
    "Stretch goal - narrow comment scoring down by subreddit, as comment popularity will differ between reddit communities.\n",
    "\n",
    "Allow users to use this model with a publicly available <a href=\"http://www.redditscore.com/api\">API</a> & <a href=\"http://www.redditscore.com\">Website</a>.\n",
    "\n",
    "Open source the project to allow further contributions if anyone is interested."
   ]
  },
  {
   "cell_type": "code",
   "execution_count": 261,
   "metadata": {},
   "outputs": [
    {
     "name": "stdout",
     "output_type": "stream",
     "text": [
      "Libraries loaded!\n"
     ]
    }
   ],
   "source": [
    "import numpy as np\n",
    "import pandas as pd\n",
    "\n",
    "import matplotlib.pyplot as plt\n",
    "import seaborn as sns\n",
    "import imblearn\n",
    "\n",
    "from sklearn.linear_model import SGDRegressor\n",
    "from sklearn.metrics import mean_squared_error\n",
    "from sklearn.feature_extraction.text import TfidfTransformer\n",
    "from sklearn.feature_extraction.text import TfidfVectorizer\n",
    "from sklearn.decomposition import TruncatedSVD\n",
    "from sklearn.preprocessing import LabelEncoder\n",
    "from sklearn.linear_model import SGDClassifier\n",
    "from sklearn.model_selection import train_test_split\n",
    "from sklearn.metrics import accuracy_score\n",
    "from sklearn.metrics import confusion_matrix\n",
    "from sklearn.preprocessing import StandardScaler\n",
    "from imblearn.over_sampling import RandomOverSampler\n",
    "from sklearn.decomposition import PCA\n",
    "\n",
    "print('Libraries loaded!')"
   ]
  },
  {
   "cell_type": "markdown",
   "metadata": {},
   "source": [
    "## Import and Clean Data"
   ]
  },
  {
   "cell_type": "code",
   "execution_count": 262,
   "metadata": {},
   "outputs": [
    {
     "name": "stdout",
     "output_type": "stream",
     "text": [
      "Loading memes...\n",
      "Memes are fully operational!\n"
     ]
    }
   ],
   "source": [
    "print('Loading memes...')\n",
    "\n",
    "# df = pd.read_json('https://s3.us-east-2.amazonaws.com/redditscore/25rows', lines=True)\n",
    "df = pd.read_csv('https://s3.us-east-2.amazonaws.com/redditscore/2500rows.csv')\n",
    "#df = pd.read_csv('https://s3.us-east-2.amazonaws.com/redditscore/2mrows.csv', error_bad_lines=False, engine='python')\n",
    "print('Memes are fully operational!')"
   ]
  },
  {
   "cell_type": "code",
   "execution_count": 263,
   "metadata": {},
   "outputs": [
    {
     "name": "stdout",
     "output_type": "stream",
     "text": [
      "subreddit     object\n",
      "body          object\n",
      "score        float64\n",
      "dtype: object\n",
      "\n",
      "(2487, 3)\n"
     ]
    },
    {
     "data": {
      "text/html": [
       "<div>\n",
       "<style scoped>\n",
       "    .dataframe tbody tr th:only-of-type {\n",
       "        vertical-align: middle;\n",
       "    }\n",
       "\n",
       "    .dataframe tbody tr th {\n",
       "        vertical-align: top;\n",
       "    }\n",
       "\n",
       "    .dataframe thead th {\n",
       "        text-align: right;\n",
       "    }\n",
       "</style>\n",
       "<table border=\"1\" class=\"dataframe\">\n",
       "  <thead>\n",
       "    <tr style=\"text-align: right;\">\n",
       "      <th></th>\n",
       "      <th>subreddit</th>\n",
       "      <th>body</th>\n",
       "      <th>score</th>\n",
       "    </tr>\n",
       "  </thead>\n",
       "  <tbody>\n",
       "    <tr>\n",
       "      <th>0</th>\n",
       "      <td>LabVIEW</td>\n",
       "      <td>Seconding this Ive used it on some pretty larg...</td>\n",
       "      <td>1.0</td>\n",
       "    </tr>\n",
       "    <tr>\n",
       "      <th>1</th>\n",
       "      <td>Bitcoin</td>\n",
       "      <td>I am not in debt and I shall rise again to inv...</td>\n",
       "      <td>0.0</td>\n",
       "    </tr>\n",
       "    <tr>\n",
       "      <th>2</th>\n",
       "      <td>worldnews</td>\n",
       "      <td>So that thin crowd was actually Russians? I wa...</td>\n",
       "      <td>7.0</td>\n",
       "    </tr>\n",
       "    <tr>\n",
       "      <th>3</th>\n",
       "      <td>AteTheOnion</td>\n",
       "      <td>[deleted]</td>\n",
       "      <td>8.0</td>\n",
       "    </tr>\n",
       "    <tr>\n",
       "      <th>4</th>\n",
       "      <td>youseeingthisshit</td>\n",
       "      <td>I hope he ran away like a giggling school girl...</td>\n",
       "      <td>5.0</td>\n",
       "    </tr>\n",
       "    <tr>\n",
       "      <th>5</th>\n",
       "      <td>anime_irl</td>\n",
       "      <td>You can just tell that he's trying not to say ...</td>\n",
       "      <td>1.0</td>\n",
       "    </tr>\n",
       "    <tr>\n",
       "      <th>6</th>\n",
       "      <td>NintendoSwitch</td>\n",
       "      <td>Get Zelda</td>\n",
       "      <td>86.0</td>\n",
       "    </tr>\n",
       "    <tr>\n",
       "      <th>7</th>\n",
       "      <td>AskEconomics</td>\n",
       "      <td>[removed]</td>\n",
       "      <td>2.0</td>\n",
       "    </tr>\n",
       "    <tr>\n",
       "      <th>8</th>\n",
       "      <td>mexico</td>\n",
       "      <td>[removed]</td>\n",
       "      <td>1.0</td>\n",
       "    </tr>\n",
       "    <tr>\n",
       "      <th>9</th>\n",
       "      <td>nottheonion</td>\n",
       "      <td>Nobody likes a lingerer</td>\n",
       "      <td>2.0</td>\n",
       "    </tr>\n",
       "  </tbody>\n",
       "</table>\n",
       "</div>"
      ],
      "text/plain": [
       "           subreddit                                               body  score\n",
       "0            LabVIEW  Seconding this Ive used it on some pretty larg...    1.0\n",
       "1            Bitcoin  I am not in debt and I shall rise again to inv...    0.0\n",
       "2          worldnews  So that thin crowd was actually Russians? I wa...    7.0\n",
       "3        AteTheOnion                                          [deleted]    8.0\n",
       "4  youseeingthisshit  I hope he ran away like a giggling school girl...    5.0\n",
       "5          anime_irl  You can just tell that he's trying not to say ...    1.0\n",
       "6     NintendoSwitch                                          Get Zelda   86.0\n",
       "7       AskEconomics                                          [removed]    2.0\n",
       "8             mexico                                          [removed]    1.0\n",
       "9        nottheonion                            Nobody likes a lingerer    2.0"
      ]
     },
     "execution_count": 263,
     "metadata": {},
     "output_type": "execute_result"
    }
   ],
   "source": [
    "print(df.dtypes)\n",
    "print()\n",
    "print(df.shape)\n",
    "df.head(10)"
   ]
  },
  {
   "cell_type": "markdown",
   "metadata": {},
   "source": [
    "The score will always be an integer since it is based on upvotes and downvotes. Before converting however, we need to check if there are any null values."
   ]
  },
  {
   "cell_type": "code",
   "execution_count": 264,
   "metadata": {},
   "outputs": [
    {
     "data": {
      "text/plain": [
       "subreddit     0\n",
       "body          5\n",
       "score        21\n",
       "dtype: int64"
      ]
     },
     "execution_count": 264,
     "metadata": {},
     "output_type": "execute_result"
    }
   ],
   "source": [
    "df.isna().sum()"
   ]
  },
  {
   "cell_type": "code",
   "execution_count": 265,
   "metadata": {},
   "outputs": [
    {
     "data": {
      "text/html": [
       "<div>\n",
       "<style scoped>\n",
       "    .dataframe tbody tr th:only-of-type {\n",
       "        vertical-align: middle;\n",
       "    }\n",
       "\n",
       "    .dataframe tbody tr th {\n",
       "        vertical-align: top;\n",
       "    }\n",
       "\n",
       "    .dataframe thead th {\n",
       "        text-align: right;\n",
       "    }\n",
       "</style>\n",
       "<table border=\"1\" class=\"dataframe\">\n",
       "  <thead>\n",
       "    <tr style=\"text-align: right;\">\n",
       "      <th></th>\n",
       "      <th>subreddit</th>\n",
       "      <th>body</th>\n",
       "      <th>score</th>\n",
       "    </tr>\n",
       "  </thead>\n",
       "  <tbody>\n",
       "    <tr>\n",
       "      <th>243</th>\n",
       "      <td>AskRedditUL</td>\n",
       "      <td>/u/lifeandtimes89</td>\n",
       "      <td>NaN</td>\n",
       "    </tr>\n",
       "    <tr>\n",
       "      <th>244</th>\n",
       "      <td>Your post</td>\n",
       "      <td>NaN</td>\n",
       "      <td>NaN</td>\n",
       "    </tr>\n",
       "    <tr>\n",
       "      <th>245</th>\n",
       "      <td>&amp;gt;Redditors I want to here your hero storie...</td>\n",
       "      <td>NaN</td>\n",
       "      <td>NaN</td>\n",
       "    </tr>\n",
       "    <tr>\n",
       "      <th>246</th>\n",
       "      <td>was mentioned since it was deleted by the res...</td>\n",
       "      <td>NaN</td>\n",
       "      <td>NaN</td>\n",
       "    </tr>\n",
       "    <tr>\n",
       "      <th>247</th>\n",
       "      <td>If you would like to submit your question aga...</td>\n",
       "      <td>NaN</td>\n",
       "      <td>NaN</td>\n",
       "    </tr>\n",
       "    <tr>\n",
       "      <th>248</th>\n",
       "      <td>Feel free to submit your question here on /r/...</td>\n",
       "      <td>NaN</td>\n",
       "      <td>NaN</td>\n",
       "    </tr>\n",
       "    <tr>\n",
       "      <th>249</th>\n",
       "      <td>**Subscribe to this subreddit for more unrest...</td>\n",
       "      <td>1</td>\n",
       "      <td>NaN</td>\n",
       "    </tr>\n",
       "    <tr>\n",
       "      <th>809</th>\n",
       "      <td>TrumpPA</td>\n",
       "      <td>I've taken the liberty of creating an archive ...</td>\n",
       "      <td>NaN</td>\n",
       "    </tr>\n",
       "    <tr>\n",
       "      <th>810</th>\n",
       "      <td>(If you would like to support Philly.com fina...</td>\n",
       "      <td>2</td>\n",
       "      <td>NaN</td>\n",
       "    </tr>\n",
       "    <tr>\n",
       "      <th>833</th>\n",
       "      <td>lego_raffles</td>\n",
       "      <td>Raffle [Announcement](/r/lego_raffles/comments...</td>\n",
       "      <td>NaN</td>\n",
       "    </tr>\n",
       "    <tr>\n",
       "      <th>834</th>\n",
       "      <td>/u/Yukonface /u/amnonymous /u/nathanadavis</td>\n",
       "      <td>1</td>\n",
       "      <td>NaN</td>\n",
       "    </tr>\n",
       "    <tr>\n",
       "      <th>845</th>\n",
       "      <td>lego_raffles</td>\n",
       "      <td>Raffle [Announcement](/r/lego_raffles/comments...</td>\n",
       "      <td>NaN</td>\n",
       "    </tr>\n",
       "    <tr>\n",
       "      <th>846</th>\n",
       "      <td>/u/ThatDude2237 /u/Scrotaur /u/mgiglio</td>\n",
       "      <td>1</td>\n",
       "      <td>NaN</td>\n",
       "    </tr>\n",
       "    <tr>\n",
       "      <th>847</th>\n",
       "      <td>Flyers</td>\n",
       "      <td>I've taken the liberty of creating an archive ...</td>\n",
       "      <td>NaN</td>\n",
       "    </tr>\n",
       "    <tr>\n",
       "      <th>848</th>\n",
       "      <td>(If you would like to support Philly.com fina...</td>\n",
       "      <td>2</td>\n",
       "      <td>NaN</td>\n",
       "    </tr>\n",
       "    <tr>\n",
       "      <th>964</th>\n",
       "      <td>philadelphia</td>\n",
       "      <td>I've taken the liberty of creating an archive ...</td>\n",
       "      <td>NaN</td>\n",
       "    </tr>\n",
       "    <tr>\n",
       "      <th>965</th>\n",
       "      <td>(If you would like to support Philly.com fina...</td>\n",
       "      <td>1</td>\n",
       "      <td>NaN</td>\n",
       "    </tr>\n",
       "    <tr>\n",
       "      <th>976</th>\n",
       "      <td>TrumpPA</td>\n",
       "      <td>I've taken the liberty of creating an archive ...</td>\n",
       "      <td>NaN</td>\n",
       "    </tr>\n",
       "    <tr>\n",
       "      <th>977</th>\n",
       "      <td>(If you would like to support Philly.com fina...</td>\n",
       "      <td>1</td>\n",
       "      <td>NaN</td>\n",
       "    </tr>\n",
       "    <tr>\n",
       "      <th>978</th>\n",
       "      <td>philadelphia</td>\n",
       "      <td>I've taken the liberty of creating an archive ...</td>\n",
       "      <td>NaN</td>\n",
       "    </tr>\n",
       "  </tbody>\n",
       "</table>\n",
       "</div>"
      ],
      "text/plain": [
       "                                             subreddit  \\\n",
       "243                                        AskRedditUL   \n",
       "244                                          Your post   \n",
       "245   &gt;Redditors I want to here your hero storie...   \n",
       "246   was mentioned since it was deleted by the res...   \n",
       "247   If you would like to submit your question aga...   \n",
       "248   Feel free to submit your question here on /r/...   \n",
       "249   **Subscribe to this subreddit for more unrest...   \n",
       "809                                            TrumpPA   \n",
       "810   (If you would like to support Philly.com fina...   \n",
       "833                                       lego_raffles   \n",
       "834         /u/Yukonface /u/amnonymous /u/nathanadavis   \n",
       "845                                       lego_raffles   \n",
       "846             /u/ThatDude2237 /u/Scrotaur /u/mgiglio   \n",
       "847                                             Flyers   \n",
       "848   (If you would like to support Philly.com fina...   \n",
       "964                                       philadelphia   \n",
       "965   (If you would like to support Philly.com fina...   \n",
       "976                                            TrumpPA   \n",
       "977   (If you would like to support Philly.com fina...   \n",
       "978                                       philadelphia   \n",
       "\n",
       "                                                  body  score  \n",
       "243                                  /u/lifeandtimes89    NaN  \n",
       "244                                                NaN    NaN  \n",
       "245                                                NaN    NaN  \n",
       "246                                                NaN    NaN  \n",
       "247                                                NaN    NaN  \n",
       "248                                                NaN    NaN  \n",
       "249                                                  1    NaN  \n",
       "809  I've taken the liberty of creating an archive ...    NaN  \n",
       "810                                                  2    NaN  \n",
       "833  Raffle [Announcement](/r/lego_raffles/comments...    NaN  \n",
       "834                                                  1    NaN  \n",
       "845  Raffle [Announcement](/r/lego_raffles/comments...    NaN  \n",
       "846                                                  1    NaN  \n",
       "847  I've taken the liberty of creating an archive ...    NaN  \n",
       "848                                                  2    NaN  \n",
       "964  I've taken the liberty of creating an archive ...    NaN  \n",
       "965                                                  1    NaN  \n",
       "976  I've taken the liberty of creating an archive ...    NaN  \n",
       "977                                                  1    NaN  \n",
       "978  I've taken the liberty of creating an archive ...    NaN  "
      ]
     },
     "execution_count": 265,
     "metadata": {},
     "output_type": "execute_result"
    }
   ],
   "source": [
    "df[df.isnull().any(axis=1)].head(20)"
   ]
  },
  {
   "cell_type": "markdown",
   "metadata": {},
   "source": [
    "There is only a small amount of null values and they appear to be of little use, so removing them seems to be the best bet. Once the null values are removed we can convert score to an integer."
   ]
  },
  {
   "cell_type": "code",
   "execution_count": 266,
   "metadata": {},
   "outputs": [],
   "source": [
    "df = df.dropna()\n",
    "df['score'] = df['score'].astype('int')"
   ]
  },
  {
   "cell_type": "code",
   "execution_count": 267,
   "metadata": {},
   "outputs": [
    {
     "name": "stdout",
     "output_type": "stream",
     "text": [
      "(2466, 3)\n"
     ]
    },
    {
     "data": {
      "text/html": [
       "<div>\n",
       "<style scoped>\n",
       "    .dataframe tbody tr th:only-of-type {\n",
       "        vertical-align: middle;\n",
       "    }\n",
       "\n",
       "    .dataframe tbody tr th {\n",
       "        vertical-align: top;\n",
       "    }\n",
       "\n",
       "    .dataframe thead th {\n",
       "        text-align: right;\n",
       "    }\n",
       "</style>\n",
       "<table border=\"1\" class=\"dataframe\">\n",
       "  <thead>\n",
       "    <tr style=\"text-align: right;\">\n",
       "      <th></th>\n",
       "      <th>subreddit</th>\n",
       "      <th>body</th>\n",
       "      <th>score</th>\n",
       "    </tr>\n",
       "  </thead>\n",
       "  <tbody>\n",
       "    <tr>\n",
       "      <th>0</th>\n",
       "      <td>LabVIEW</td>\n",
       "      <td>Seconding this Ive used it on some pretty larg...</td>\n",
       "      <td>1</td>\n",
       "    </tr>\n",
       "    <tr>\n",
       "      <th>1</th>\n",
       "      <td>Bitcoin</td>\n",
       "      <td>I am not in debt and I shall rise again to inv...</td>\n",
       "      <td>0</td>\n",
       "    </tr>\n",
       "    <tr>\n",
       "      <th>2</th>\n",
       "      <td>worldnews</td>\n",
       "      <td>So that thin crowd was actually Russians? I wa...</td>\n",
       "      <td>7</td>\n",
       "    </tr>\n",
       "    <tr>\n",
       "      <th>3</th>\n",
       "      <td>AteTheOnion</td>\n",
       "      <td>[deleted]</td>\n",
       "      <td>8</td>\n",
       "    </tr>\n",
       "    <tr>\n",
       "      <th>4</th>\n",
       "      <td>youseeingthisshit</td>\n",
       "      <td>I hope he ran away like a giggling school girl...</td>\n",
       "      <td>5</td>\n",
       "    </tr>\n",
       "    <tr>\n",
       "      <th>5</th>\n",
       "      <td>anime_irl</td>\n",
       "      <td>You can just tell that he's trying not to say ...</td>\n",
       "      <td>1</td>\n",
       "    </tr>\n",
       "    <tr>\n",
       "      <th>6</th>\n",
       "      <td>NintendoSwitch</td>\n",
       "      <td>Get Zelda</td>\n",
       "      <td>86</td>\n",
       "    </tr>\n",
       "    <tr>\n",
       "      <th>7</th>\n",
       "      <td>AskEconomics</td>\n",
       "      <td>[removed]</td>\n",
       "      <td>2</td>\n",
       "    </tr>\n",
       "    <tr>\n",
       "      <th>8</th>\n",
       "      <td>mexico</td>\n",
       "      <td>[removed]</td>\n",
       "      <td>1</td>\n",
       "    </tr>\n",
       "    <tr>\n",
       "      <th>9</th>\n",
       "      <td>nottheonion</td>\n",
       "      <td>Nobody likes a lingerer</td>\n",
       "      <td>2</td>\n",
       "    </tr>\n",
       "  </tbody>\n",
       "</table>\n",
       "</div>"
      ],
      "text/plain": [
       "           subreddit                                               body  score\n",
       "0            LabVIEW  Seconding this Ive used it on some pretty larg...      1\n",
       "1            Bitcoin  I am not in debt and I shall rise again to inv...      0\n",
       "2          worldnews  So that thin crowd was actually Russians? I wa...      7\n",
       "3        AteTheOnion                                          [deleted]      8\n",
       "4  youseeingthisshit  I hope he ran away like a giggling school girl...      5\n",
       "5          anime_irl  You can just tell that he's trying not to say ...      1\n",
       "6     NintendoSwitch                                          Get Zelda     86\n",
       "7       AskEconomics                                          [removed]      2\n",
       "8             mexico                                          [removed]      1\n",
       "9        nottheonion                            Nobody likes a lingerer      2"
      ]
     },
     "execution_count": 267,
     "metadata": {},
     "output_type": "execute_result"
    }
   ],
   "source": [
    "print(df.shape)\n",
    "df.head(10)"
   ]
  },
  {
   "cell_type": "markdown",
   "metadata": {},
   "source": [
    "## Initial Data Analysis\n",
    "\n",
    "Before getting into handling the comment body a better understanding of the score collumn needs to be gained."
   ]
  },
  {
   "cell_type": "code",
   "execution_count": 268,
   "metadata": {},
   "outputs": [
    {
     "data": {
      "text/plain": [
       "count    2466.000000\n",
       "mean        9.634631\n",
       "std       171.808223\n",
       "min       -27.000000\n",
       "25%         1.000000\n",
       "50%         2.000000\n",
       "75%         4.000000\n",
       "max      8450.000000\n",
       "Name: score, dtype: float64"
      ]
     },
     "execution_count": 268,
     "metadata": {},
     "output_type": "execute_result"
    }
   ],
   "source": [
    "df['score'].describe()"
   ]
  },
  {
   "cell_type": "code",
   "execution_count": 269,
   "metadata": {},
   "outputs": [
    {
     "name": "stderr",
     "output_type": "stream",
     "text": [
      "c:\\users\\hackert\\appdata\\local\\continuum\\anaconda3\\lib\\site-packages\\scipy\\stats\\stats.py:1713: FutureWarning: Using a non-tuple sequence for multidimensional indexing is deprecated; use `arr[tuple(seq)]` instead of `arr[seq]`. In the future this will be interpreted as an array index, `arr[np.array(seq)]`, which will result either in an error or a different result.\n",
      "  return np.add.reduce(sorted[indexer] * weights, axis=axis) / sumval\n"
     ]
    },
    {
     "data": {
      "text/plain": [
       "<matplotlib.axes._subplots.AxesSubplot at 0x177d465cc88>"
      ]
     },
     "execution_count": 269,
     "metadata": {},
     "output_type": "execute_result"
    },
    {
     "data": {
      "image/png": "[encoded data removed]",
      "text/plain": [
       "<matplotlib.figure.Figure at 0x177d2eebc50>"
      ]
     },
     "metadata": {},
     "output_type": "display_data"
    }
   ],
   "source": [
    "sns.distplot(df[\"score\"], kde=False)"
   ]
  },
  {
   "cell_type": "markdown",
   "metadata": {},
   "source": [
    "As seen standard deviation and the distribution plot, there is a large distribution of data which makes the dataset skewed."
   ]
  },
  {
   "cell_type": "markdown",
   "metadata": {},
   "source": [
    "In order to solve this log sclaling can be applied which might be useful later on."
   ]
  },
  {
   "cell_type": "code",
   "execution_count": 270,
   "metadata": {},
   "outputs": [
    {
     "name": "stderr",
     "output_type": "stream",
     "text": [
      "c:\\users\\hackert\\appdata\\local\\continuum\\anaconda3\\lib\\site-packages\\scipy\\stats\\stats.py:1713: FutureWarning: Using a non-tuple sequence for multidimensional indexing is deprecated; use `arr[tuple(seq)]` instead of `arr[seq]`. In the future this will be interpreted as an array index, `arr[np.array(seq)]`, which will result either in an error or a different result.\n",
      "  return np.add.reduce(sorted[indexer] * weights, axis=axis) / sumval\n"
     ]
    },
    {
     "data": {
      "text/plain": [
       "<matplotlib.axes._subplots.AxesSubplot at 0x177d465ca58>"
      ]
     },
     "execution_count": 270,
     "metadata": {},
     "output_type": "execute_result"
    },
    {
     "data": {
      "image/png": "[encoded data removed]",
      "text/plain": [
       "<matplotlib.figure.Figure at 0x177d4b1a898>"
      ]
     },
     "metadata": {},
     "output_type": "display_data"
    }
   ],
   "source": [
    "mask = df[\"score\"] > 0\n",
    "sns.distplot(np.log1p(df[\"score\"][mask]), kde=False)"
   ]
  },
  {
   "cell_type": "markdown",
   "metadata": {},
   "source": [
    "The positive scores appear to be skewed with a significant majority of values being equal to 1. "
   ]
  },
  {
   "cell_type": "code",
   "execution_count": 271,
   "metadata": {},
   "outputs": [
    {
     "name": "stderr",
     "output_type": "stream",
     "text": [
      "c:\\users\\hackert\\appdata\\local\\continuum\\anaconda3\\lib\\site-packages\\scipy\\stats\\stats.py:1713: FutureWarning: Using a non-tuple sequence for multidimensional indexing is deprecated; use `arr[tuple(seq)]` instead of `arr[seq]`. In the future this will be interpreted as an array index, `arr[np.array(seq)]`, which will result either in an error or a different result.\n",
      "  return np.add.reduce(sorted[indexer] * weights, axis=axis) / sumval\n"
     ]
    },
    {
     "data": {
      "text/plain": [
       "<matplotlib.axes._subplots.AxesSubplot at 0x177d4c13588>"
      ]
     },
     "execution_count": 271,
     "metadata": {},
     "output_type": "execute_result"
    },
    {
     "data": {
      "image/png": "[encoded data removed]",
      "text/plain": [
       "<matplotlib.figure.Figure at 0x177d17c7ac8>"
      ]
     },
     "metadata": {},
     "output_type": "display_data"
    }
   ],
   "source": [
    "mask = df[\"score\"] < 0\n",
    "sns.distplot(-np.log1p(-df[\"score\"][mask]), kde=False)"
   ]
  },
  {
   "cell_type": "markdown",
   "metadata": {},
   "source": [
    "The negative scores also seem a little skewed."
   ]
  },
  {
   "cell_type": "markdown",
   "metadata": {},
   "source": [
    "#### Adding another score column\n",
    "\n",
    "In order to understand the data better and also create a logistic regression model a seperate column was created with the values of positive, negative or one score. Positive score being anything greater than 1, negative being anything less than 1 and one being 1. The reason for this classification is how comments on reddit work, since whenever a comment is made it automatically gets an upvote and therfore if the score is zero it got a downvote."
   ]
  },
  {
   "cell_type": "code",
   "execution_count": 272,
   "metadata": {},
   "outputs": [
    {
     "data": {
      "text/html": [
       "<div>\n",
       "<style scoped>\n",
       "    .dataframe tbody tr th:only-of-type {\n",
       "        vertical-align: middle;\n",
       "    }\n",
       "\n",
       "    .dataframe tbody tr th {\n",
       "        vertical-align: top;\n",
       "    }\n",
       "\n",
       "    .dataframe thead th {\n",
       "        text-align: right;\n",
       "    }\n",
       "</style>\n",
       "<table border=\"1\" class=\"dataframe\">\n",
       "  <thead>\n",
       "    <tr style=\"text-align: right;\">\n",
       "      <th></th>\n",
       "      <th>subreddit</th>\n",
       "      <th>body</th>\n",
       "      <th>score</th>\n",
       "      <th>pn_score</th>\n",
       "    </tr>\n",
       "  </thead>\n",
       "  <tbody>\n",
       "    <tr>\n",
       "      <th>0</th>\n",
       "      <td>LabVIEW</td>\n",
       "      <td>Seconding this Ive used it on some pretty larg...</td>\n",
       "      <td>1</td>\n",
       "      <td>one</td>\n",
       "    </tr>\n",
       "    <tr>\n",
       "      <th>1</th>\n",
       "      <td>Bitcoin</td>\n",
       "      <td>I am not in debt and I shall rise again to inv...</td>\n",
       "      <td>0</td>\n",
       "      <td>negative</td>\n",
       "    </tr>\n",
       "    <tr>\n",
       "      <th>2</th>\n",
       "      <td>worldnews</td>\n",
       "      <td>So that thin crowd was actually Russians? I wa...</td>\n",
       "      <td>7</td>\n",
       "      <td>positive</td>\n",
       "    </tr>\n",
       "    <tr>\n",
       "      <th>3</th>\n",
       "      <td>AteTheOnion</td>\n",
       "      <td>[deleted]</td>\n",
       "      <td>8</td>\n",
       "      <td>positive</td>\n",
       "    </tr>\n",
       "    <tr>\n",
       "      <th>4</th>\n",
       "      <td>youseeingthisshit</td>\n",
       "      <td>I hope he ran away like a giggling school girl...</td>\n",
       "      <td>5</td>\n",
       "      <td>positive</td>\n",
       "    </tr>\n",
       "    <tr>\n",
       "      <th>5</th>\n",
       "      <td>anime_irl</td>\n",
       "      <td>You can just tell that he's trying not to say ...</td>\n",
       "      <td>1</td>\n",
       "      <td>one</td>\n",
       "    </tr>\n",
       "    <tr>\n",
       "      <th>6</th>\n",
       "      <td>NintendoSwitch</td>\n",
       "      <td>Get Zelda</td>\n",
       "      <td>86</td>\n",
       "      <td>positive</td>\n",
       "    </tr>\n",
       "    <tr>\n",
       "      <th>7</th>\n",
       "      <td>AskEconomics</td>\n",
       "      <td>[removed]</td>\n",
       "      <td>2</td>\n",
       "      <td>positive</td>\n",
       "    </tr>\n",
       "    <tr>\n",
       "      <th>8</th>\n",
       "      <td>mexico</td>\n",
       "      <td>[removed]</td>\n",
       "      <td>1</td>\n",
       "      <td>one</td>\n",
       "    </tr>\n",
       "    <tr>\n",
       "      <th>9</th>\n",
       "      <td>nottheonion</td>\n",
       "      <td>Nobody likes a lingerer</td>\n",
       "      <td>2</td>\n",
       "      <td>positive</td>\n",
       "    </tr>\n",
       "  </tbody>\n",
       "</table>\n",
       "</div>"
      ],
      "text/plain": [
       "           subreddit                                               body  \\\n",
       "0            LabVIEW  Seconding this Ive used it on some pretty larg...   \n",
       "1            Bitcoin  I am not in debt and I shall rise again to inv...   \n",
       "2          worldnews  So that thin crowd was actually Russians? I wa...   \n",
       "3        AteTheOnion                                          [deleted]   \n",
       "4  youseeingthisshit  I hope he ran away like a giggling school girl...   \n",
       "5          anime_irl  You can just tell that he's trying not to say ...   \n",
       "6     NintendoSwitch                                          Get Zelda   \n",
       "7       AskEconomics                                          [removed]   \n",
       "8             mexico                                          [removed]   \n",
       "9        nottheonion                            Nobody likes a lingerer   \n",
       "\n",
       "   score  pn_score  \n",
       "0      1       one  \n",
       "1      0  negative  \n",
       "2      7  positive  \n",
       "3      8  positive  \n",
       "4      5  positive  \n",
       "5      1       one  \n",
       "6     86  positive  \n",
       "7      2  positive  \n",
       "8      1       one  \n",
       "9      2  positive  "
      ]
     },
     "execution_count": 272,
     "metadata": {},
     "output_type": "execute_result"
    }
   ],
   "source": [
    "df['pn_score'] = \"\"\n",
    "\n",
    "for i in df['score'].index:\n",
    "    if  df['score'].at[i] > 1:\n",
    "        df['pn_score'].at[i] = 'positive'\n",
    "    elif float(df['score'].at[i]) <= 0:\n",
    "        df['pn_score'].at[i] = 'negative'\n",
    "    else:\n",
    "        df['pn_score'].at[i] = 'one'  \n",
    "\n",
    "df.head(10)"
   ]
  },
  {
   "cell_type": "code",
   "execution_count": 273,
   "metadata": {},
   "outputs": [
    {
     "name": "stdout",
     "output_type": "stream",
     "text": [
      "positive    1303\n",
      "one          981\n",
      "negative     182\n",
      "Name: pn_score, dtype: int64\n"
     ]
    },
    {
     "data": {
      "text/plain": [
       "Text(0,0.5,'Number of Samples')"
      ]
     },
     "execution_count": 273,
     "metadata": {},
     "output_type": "execute_result"
    },
    {
     "data": {
      "image/png": "[encoded data removed]",
      "text/plain": [
       "<matplotlib.figure.Figure at 0x177d4cd2160>"
      ]
     },
     "metadata": {},
     "output_type": "display_data"
    }
   ],
   "source": [
    "pn_counts = df['pn_score'].value_counts()\n",
    "print(pn_counts)\n",
    "pn_counts.plot.bar()\n",
    "plt.ylabel(\"Number of Samples\", fontsize=16)"
   ]
  },
  {
   "cell_type": "markdown",
   "metadata": {},
   "source": [
    "Again there is an issue with distribution here. The majority of dataset has positive score values, where negative scores are much less frequent."
   ]
  },
  {
   "cell_type": "markdown",
   "metadata": {},
   "source": [
    "## Logistic Regression Model\n",
    "There will be a combination of logistic regression and linear regression models used.\n",
    "\n",
    "The logistic model will be created based on the categorical score values, so it will predict whether the comment will have a postive or negative score or a score of 1.  \n",
    "\n",
    "Since the data is so skewed a simple random over-sampling was used in order to increase the number of negative scores. The reason for using over-sampling as opposed to under-sampling is because we didn't want to loose any comments that could contribute as predictors. This does run the risk of overfitting the data however."
   ]
  },
  {
   "cell_type": "code",
   "execution_count": 274,
   "metadata": {},
   "outputs": [
    {
     "name": "stdout",
     "output_type": "stream",
     "text": [
      "Random over-sampling:\n",
      "positive    1303\n",
      "negative     981\n",
      "one          981\n",
      "Name: pn_score, dtype: int64\n"
     ]
    },
    {
     "data": {
      "text/plain": [
       "Text(0,0.5,'Number of Samples')"
      ]
     },
     "execution_count": 274,
     "metadata": {},
     "output_type": "execute_result"
    },
    {
     "data": {
      "image/png": "[encoded data removed]",
      "text/plain": [
       "<matplotlib.figure.Figure at 0x177d46602e8>"
      ]
     },
     "metadata": {},
     "output_type": "display_data"
    }
   ],
   "source": [
    "count_pos, count_one, count_neg = df['pn_score'].value_counts()\n",
    "\n",
    "df_pos_score = df[df['pn_score'] == 'positive']\n",
    "df_neg_score = df[df['pn_score'] == 'negative']\n",
    "df_one_score = df[df['pn_score'] == 'one']\n",
    "\n",
    "df_neg_score_over = df_neg_score.sample(count_one, replace=True)\n",
    "df_score_over = pd.concat([df_pos_score, df_neg_score_over, df_one_score], axis=0)\n",
    "\n",
    "print('Random over-sampling:')\n",
    "\n",
    "pn_counts = df_score_over['pn_score'].value_counts()\n",
    "print(pn_counts)\n",
    "pn_counts.plot.bar()\n",
    "plt.ylabel(\"Number of Samples\", fontsize=16)"
   ]
  },
  {
   "cell_type": "markdown",
   "metadata": {},
   "source": [
    "In order for the comments to be meaningful predictors of score they first need to be turned into a vector of numerical features. The vectorizer used implements Text Frequency-Inverse Document Frequency (TfIdf) weighting. Additionally stop_words were removed from the vector."
   ]
  },
  {
   "cell_type": "code",
   "execution_count": 275,
   "metadata": {},
   "outputs": [
    {
     "name": "stdout",
     "output_type": "stream",
     "text": [
      "(3265, 1622)\n"
     ]
    }
   ],
   "source": [
    "log_vect = TfidfVectorizer(max_df = 0.95, min_df = 5, binary=True, stop_words='english')\n",
    "text_features = log_vect.fit_transform(df_score_over.body)\n",
    "print(text_features.shape)"
   ]
  },
  {
   "cell_type": "code",
   "execution_count": 276,
   "metadata": {},
   "outputs": [
    {
     "data": {
      "text/plain": [
       "['actually',\n",
       " 'joke',\n",
       " 'turns',\n",
       " 'deleted',\n",
       " 'hope',\n",
       " 'away',\n",
       " 'like',\n",
       " 'school',\n",
       " 'girl',\n",
       " 'mind']"
      ]
     },
     "execution_count": 276,
     "metadata": {},
     "output_type": "execute_result"
    }
   ],
   "source": [
    "list(log_vect.vocabulary_)[:10]"
   ]
  },
  {
   "cell_type": "markdown",
   "metadata": {},
   "source": [
    "Now that the comments are turned into vectorized features they can be used in the logistic regression model. In order to achieve better results the random over-sampled data is used."
   ]
  },
  {
   "cell_type": "code",
   "execution_count": 277,
   "metadata": {},
   "outputs": [
    {
     "name": "stdout",
     "output_type": "stream",
     "text": [
      "[1 2 0 ... 0 0 2]\n",
      "Accuracy: 0.6242350061199511\n",
      "Classes: ['negative' 'one' 'positive']\n",
      "Confusion Matrix:\n",
      "[[224  10  12]\n",
      " [ 25  77 143]\n",
      " [ 23  94 209]]\n"
     ]
    }
   ],
   "source": [
    "encoder = LabelEncoder()\n",
    "numerical_labels = encoder.fit_transform(df_score_over['pn_score'])\n",
    "\n",
    "training_X, testing_X, training_y, testing_y = train_test_split(text_features,\n",
    "                                                               numerical_labels,\n",
    "                                                               stratify=numerical_labels)\n",
    "print(training_y)\n",
    "\n",
    "logistic_regression = SGDClassifier(loss=\"log\", penalty=\"l2\", max_iter=1500)\n",
    "logistic_regression.fit(training_X, training_y)\n",
    "pred_labels = logistic_regression.predict(testing_X)\n",
    "\n",
    "accuracy = accuracy_score(testing_y, pred_labels)\n",
    "cm = confusion_matrix(testing_y, pred_labels)\n",
    "\n",
    "print(\"Accuracy:\", accuracy)\n",
    "print(\"Classes:\", str(encoder.classes_))\n",
    "print(\"Confusion Matrix:\")\n",
    "print(cm)"
   ]
  },
  {
   "cell_type": "markdown",
   "metadata": {},
   "source": [
    "According to the confusion matrix the model struggles with determining a comment that has a score of 1 and usually mistakes it for a positive comment. It seems to perform the best with negative comments which could indicate overfitting of the data."
   ]
  },
  {
   "cell_type": "markdown",
   "metadata": {},
   "source": [
    "## Linear Regression Models\n",
    "\n",
    "There will be two linear regression models, one for detecting the value of the positive score comments and another for detective the value of the negative score comments. The specific one will be used depending on the outcome of the logistic regression model.\n",
    "\n",
    "### Positive Scores\n",
    "\n",
    "The first linear regression model will predict that of the postive score. In order to do that only the rows with a positive score are necessary."
   ]
  },
  {
   "cell_type": "code",
   "execution_count": 278,
   "metadata": {},
   "outputs": [
    {
     "data": {
      "text/html": [
       "<div>\n",
       "<style scoped>\n",
       "    .dataframe tbody tr th:only-of-type {\n",
       "        vertical-align: middle;\n",
       "    }\n",
       "\n",
       "    .dataframe tbody tr th {\n",
       "        vertical-align: top;\n",
       "    }\n",
       "\n",
       "    .dataframe thead th {\n",
       "        text-align: right;\n",
       "    }\n",
       "</style>\n",
       "<table border=\"1\" class=\"dataframe\">\n",
       "  <thead>\n",
       "    <tr style=\"text-align: right;\">\n",
       "      <th></th>\n",
       "      <th>subreddit</th>\n",
       "      <th>body</th>\n",
       "      <th>score</th>\n",
       "      <th>pn_score</th>\n",
       "    </tr>\n",
       "  </thead>\n",
       "  <tbody>\n",
       "    <tr>\n",
       "      <th>2</th>\n",
       "      <td>worldnews</td>\n",
       "      <td>So that thin crowd was actually Russians? I wa...</td>\n",
       "      <td>7</td>\n",
       "      <td>positive</td>\n",
       "    </tr>\n",
       "    <tr>\n",
       "      <th>3</th>\n",
       "      <td>AteTheOnion</td>\n",
       "      <td>[deleted]</td>\n",
       "      <td>8</td>\n",
       "      <td>positive</td>\n",
       "    </tr>\n",
       "    <tr>\n",
       "      <th>4</th>\n",
       "      <td>youseeingthisshit</td>\n",
       "      <td>I hope he ran away like a giggling school girl...</td>\n",
       "      <td>5</td>\n",
       "      <td>positive</td>\n",
       "    </tr>\n",
       "    <tr>\n",
       "      <th>6</th>\n",
       "      <td>NintendoSwitch</td>\n",
       "      <td>Get Zelda</td>\n",
       "      <td>86</td>\n",
       "      <td>positive</td>\n",
       "    </tr>\n",
       "    <tr>\n",
       "      <th>7</th>\n",
       "      <td>AskEconomics</td>\n",
       "      <td>[removed]</td>\n",
       "      <td>2</td>\n",
       "      <td>positive</td>\n",
       "    </tr>\n",
       "  </tbody>\n",
       "</table>\n",
       "</div>"
      ],
      "text/plain": [
       "           subreddit                                               body  \\\n",
       "2          worldnews  So that thin crowd was actually Russians? I wa...   \n",
       "3        AteTheOnion                                          [deleted]   \n",
       "4  youseeingthisshit  I hope he ran away like a giggling school girl...   \n",
       "6     NintendoSwitch                                          Get Zelda   \n",
       "7       AskEconomics                                          [removed]   \n",
       "\n",
       "   score  pn_score  \n",
       "2      7  positive  \n",
       "3      8  positive  \n",
       "4      5  positive  \n",
       "6     86  positive  \n",
       "7      2  positive  "
      ]
     },
     "execution_count": 278,
     "metadata": {},
     "output_type": "execute_result"
    }
   ],
   "source": [
    "pos_score_df = df[df.pn_score == 'positive']\n",
    "\n",
    "pos_score_df.head()"
   ]
  },
  {
   "cell_type": "markdown",
   "metadata": {},
   "source": [
    "Similarily to the logistic regression the comments need to be transformed into a vector of numerical values."
   ]
  },
  {
   "cell_type": "code",
   "execution_count": 279,
   "metadata": {},
   "outputs": [
    {
     "name": "stdout",
     "output_type": "stream",
     "text": [
      "(1303, 573)\n"
     ]
    }
   ],
   "source": [
    "pos_vect = TfidfVectorizer(max_df = 0.95, min_df = 5, binary=True, stop_words='english')\n",
    "text_features = pos_vect.fit_transform(pos_score_df.body)\n",
    "print(text_features.shape)"
   ]
  },
  {
   "cell_type": "code",
   "execution_count": 280,
   "metadata": {},
   "outputs": [
    {
     "data": {
      "text/plain": [
       "['actually',\n",
       " 'turns',\n",
       " 'deleted',\n",
       " 'hope',\n",
       " 'away',\n",
       " 'like',\n",
       " 'school',\n",
       " 'mind',\n",
       " 'removed',\n",
       " 'dude']"
      ]
     },
     "execution_count": 280,
     "metadata": {},
     "output_type": "execute_result"
    }
   ],
   "source": [
    "list(pos_vect.vocabulary_)[:10]"
   ]
  },
  {
   "cell_type": "markdown",
   "metadata": {},
   "source": [
    "Now that the comments are vectorized, the model can be created. In order to eliminate the issue with large distribution noticed during the alaysis, the scores are log scaled."
   ]
  },
  {
   "cell_type": "code",
   "execution_count": 281,
   "metadata": {},
   "outputs": [
    {
     "name": "stdout",
     "output_type": "stream",
     "text": [
      "\n",
      "Positive Score Model MSE: 0.9211654046949048\n",
      "Positive Score Model RMSE: 0.9597736215873537\n"
     ]
    }
   ],
   "source": [
    "X_train, X_test, y_train, y_test = train_test_split(text_features, np.log1p(pos_score_df['score']))\n",
    "\n",
    "pos_linear_regression = SGDRegressor(max_iter=1500)\n",
    "pos_linear_regression.fit(X_train, y_train)\n",
    "test = pos_linear_regression.predict(X_test)\n",
    "mse = mean_squared_error(y_test, test)\n",
    "rmse = np.sqrt(mse)\n",
    "print()\n",
    "print(\"Positive Score Model MSE:\", mse)\n",
    "print(\"Positive Score Model RMSE:\", rmse)"
   ]
  },
  {
   "cell_type": "markdown",
   "metadata": {},
   "source": [
    "Based on the rmse the model seems to preform pretty well."
   ]
  },
  {
   "cell_type": "markdown",
   "metadata": {},
   "source": [
    "### Negative Scores\n",
    "\n",
    "The second linear regression model will predict the negative scores. Similarily to the first model only the rows with negative scores are necessary and the comment need to be vectorized using those."
   ]
  },
  {
   "cell_type": "code",
   "execution_count": 282,
   "metadata": {},
   "outputs": [
    {
     "data": {
      "text/html": [
       "<div>\n",
       "<style scoped>\n",
       "    .dataframe tbody tr th:only-of-type {\n",
       "        vertical-align: middle;\n",
       "    }\n",
       "\n",
       "    .dataframe tbody tr th {\n",
       "        vertical-align: top;\n",
       "    }\n",
       "\n",
       "    .dataframe thead th {\n",
       "        text-align: right;\n",
       "    }\n",
       "</style>\n",
       "<table border=\"1\" class=\"dataframe\">\n",
       "  <thead>\n",
       "    <tr style=\"text-align: right;\">\n",
       "      <th></th>\n",
       "      <th>subreddit</th>\n",
       "      <th>body</th>\n",
       "      <th>score</th>\n",
       "      <th>pn_score</th>\n",
       "    </tr>\n",
       "  </thead>\n",
       "  <tbody>\n",
       "    <tr>\n",
       "      <th>1</th>\n",
       "      <td>Bitcoin</td>\n",
       "      <td>I am not in debt and I shall rise again to inv...</td>\n",
       "      <td>0</td>\n",
       "      <td>negative</td>\n",
       "    </tr>\n",
       "    <tr>\n",
       "      <th>14</th>\n",
       "      <td>ireland</td>\n",
       "      <td>Interesting but \"re-legalised\" is the wrong te...</td>\n",
       "      <td>0</td>\n",
       "      <td>negative</td>\n",
       "    </tr>\n",
       "    <tr>\n",
       "      <th>15</th>\n",
       "      <td>nfl</td>\n",
       "      <td>Defense won't win you championships anymore. I...</td>\n",
       "      <td>-8</td>\n",
       "      <td>negative</td>\n",
       "    </tr>\n",
       "    <tr>\n",
       "      <th>27</th>\n",
       "      <td>CFB</td>\n",
       "      <td>You must have X-ray vision to be able to see t...</td>\n",
       "      <td>0</td>\n",
       "      <td>negative</td>\n",
       "    </tr>\n",
       "    <tr>\n",
       "      <th>30</th>\n",
       "      <td>IdiotsInCars</td>\n",
       "      <td>I came here to say this! Regardless of opinion...</td>\n",
       "      <td>-18</td>\n",
       "      <td>negative</td>\n",
       "    </tr>\n",
       "  </tbody>\n",
       "</table>\n",
       "</div>"
      ],
      "text/plain": [
       "       subreddit                                               body  score  \\\n",
       "1        Bitcoin  I am not in debt and I shall rise again to inv...      0   \n",
       "14       ireland  Interesting but \"re-legalised\" is the wrong te...      0   \n",
       "15           nfl  Defense won't win you championships anymore. I...     -8   \n",
       "27           CFB  You must have X-ray vision to be able to see t...      0   \n",
       "30  IdiotsInCars  I came here to say this! Regardless of opinion...    -18   \n",
       "\n",
       "    pn_score  \n",
       "1   negative  \n",
       "14  negative  \n",
       "15  negative  \n",
       "27  negative  \n",
       "30  negative  "
      ]
     },
     "execution_count": 282,
     "metadata": {},
     "output_type": "execute_result"
    }
   ],
   "source": [
    "neg_score_df = df[df.pn_score == 'negative']\n",
    "\n",
    "neg_score_df.head()"
   ]
  },
  {
   "cell_type": "code",
   "execution_count": 283,
   "metadata": {},
   "outputs": [
    {
     "name": "stdout",
     "output_type": "stream",
     "text": [
      "(182, 33)\n"
     ]
    }
   ],
   "source": [
    "neg_vect = TfidfVectorizer(max_df = 0.95, min_df = 5, binary=True, stop_words='english')\n",
    "text_features = neg_vect.fit_transform(neg_score_df.body)\n",
    "print(text_features.shape)"
   ]
  },
  {
   "cell_type": "code",
   "execution_count": 284,
   "metadata": {},
   "outputs": [
    {
     "data": {
      "text/plain": [
       "['trump',\n",
       " 'going',\n",
       " 'say',\n",
       " 'right',\n",
       " 'deleted',\n",
       " 'removed',\n",
       " 'people',\n",
       " 've',\n",
       " 'saying',\n",
       " 'game']"
      ]
     },
     "execution_count": 284,
     "metadata": {},
     "output_type": "execute_result"
    }
   ],
   "source": [
    "list(neg_vect.vocabulary_)[:10]"
   ]
  },
  {
   "cell_type": "code",
   "execution_count": 285,
   "metadata": {},
   "outputs": [
    {
     "name": "stdout",
     "output_type": "stream",
     "text": [
      "\n",
      "Negative Score Model MSE: 1.306159039102519\n",
      "Negative Score Model RMSE: 1.1428731509238106\n"
     ]
    }
   ],
   "source": [
    "X_train, X_test, y_train, y_test = train_test_split(text_features, -np.log1p(-neg_score_df[\"score\"]))\n",
    "\n",
    "neg_linear_regression = SGDRegressor(max_iter=1500)\n",
    "neg_linear_regression.fit(X_train, y_train)\n",
    "test = neg_linear_regression.predict(X_test)\n",
    "mse = mean_squared_error(y_test, test)\n",
    "rmse = np.sqrt(mse)\n",
    "print()\n",
    "print(\"Negative Score Model MSE:\", mse)\n",
    "print(\"Negative Score Model RMSE:\", rmse)"
   ]
  },
  {
   "cell_type": "markdown",
   "metadata": {},
   "source": [
    "The results are similar to the first model."
   ]
  },
  {
   "cell_type": "markdown",
   "metadata": {},
   "source": [
    "## Combining Models\n",
    "\n",
    "First the logistic regression model will be used to preditc whether or not the score is negative or positive, then depending on the outcome the appropriate linear regression model will be used to predict the score value"
   ]
  },
  {
   "cell_type": "code",
   "execution_count": 286,
   "metadata": {},
   "outputs": [
    {
     "name": "stdout",
     "output_type": "stream",
     "text": [
      "Logistic Result: \n",
      "[0]\n",
      "\n",
      "Linear Result: \n",
      "[-0.98265367]\n"
     ]
    }
   ],
   "source": [
    "a = ([\"You sir a simple idiot. Or a Russian bot. Either way not worth an actual sentence on why I didn't vote for that loon.\"])\n",
    "\n",
    "logistic_result = logistic_regression.predict(log_vect.transform(a))\n",
    "print('Logistic Result: ')\n",
    "print(logistic_result)\n",
    "print()\n",
    "\n",
    "if(logistic_result) == 2:\n",
    "    linear_result = pos_linear_regression.predict(pos_vect.transform(a))\n",
    "    print('Linear Result: ')\n",
    "    print(linear_result)\n",
    "elif(logistic_result) == 0:\n",
    "    linear_result = neg_linear_regression.predict(neg_vect.transform(a))\n",
    "    print('Linear Result: ')\n",
    "    print(linear_result)"
   ]
  },
  {
   "cell_type": "code",
   "execution_count": null,
   "metadata": {},
   "outputs": [],
   "source": []
  }
 ],
 "metadata": {
  "kernelspec": {
   "display_name": "Python 3",
   "language": "python",
   "name": "python3"
  },
  "language_info": {
   "codemirror_mode": {
    "name": "ipython",
    "version": 3
   },
   "file_extension": ".py",
   "mimetype": "text/x-python",
   "name": "python",
   "nbconvert_exporter": "python",
   "pygments_lexer": "ipython3",
   "version": "3.6.4"
  }
 },
 "nbformat": 4,
 "nbformat_minor": 2
}
