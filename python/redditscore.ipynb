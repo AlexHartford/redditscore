{
 "cells": [
  {
   "cell_type": "markdown",
   "metadata": {},
   "source": [
    "# <a href=\"http://www.redditscore.com\">![redditscore](https://s3.us-east-2.amazonaws.com/redditscore/logo.png)</a> \n",
    "***A machine learning approach to predicting how badly you'll get roasted for your sub-par reddit comments.***\n",
    "\n",
    "Alex Hartford & Trevor Hacker\n",
    "\n",
    "### **Dataset**\n",
    "\n",
    "Reddit comments from September, 2018 (<a href=\"http://files.pushshift.io/reddit/\">source</a>).  This is well over 100gb of data.  We will likely only use a subset of the data but will ultimately try to use the entire dataset.\n",
    "\n",
    "### **Objectives**\n",
    "\n",
    "Create a linear regression model to predict the reddit score of a comment a user is considering posting. \n",
    "\n",
    "Stretch goal - narrow comment scoring down by subreddit, as comment popularity will differ between reddit communities.\n",
    "\n",
    "Allow users to use this model with a publicly available <a href=\"http://www.redditscore.com/api\">API</a> & <a href=\"http://www.redditscore.com\">Website</a>.\n",
    "\n",
    "Open source the project to allow further contributions if anyone is interested."
   ]
  },
  {
   "cell_type": "code",
   "execution_count": 31,
   "metadata": {},
   "outputs": [
    {
     "name": "stdout",
     "output_type": "stream",
     "text": [
      "Libraries loaded!\n"
     ]
    }
   ],
   "source": [
    "import numpy as np\n",
    "import pandas as pd\n",
    "\n",
    "import matplotlib.pyplot as plt\n",
    "import seaborn as sns\n",
    "\n",
    "from sklearn.linear_model import SGDRegressor\n",
    "from sklearn.metrics import mean_squared_error\n",
    "from sklearn.feature_extraction.text import TfidfTransformer\n",
    "from sklearn.feature_extraction.text import TfidfVectorizer\n",
    "from sklearn.decomposition import TruncatedSVD\n",
    "from sklearn.preprocessing import LabelEncoder\n",
    "from sklearn.linear_model import SGDClassifier\n",
    "from sklearn.model_selection import train_test_split\n",
    "from sklearn.metrics import accuracy_score\n",
    "from sklearn.metrics import confusion_matrix\n",
    "from sklearn.preprocessing import StandardScaler\n",
    "\n",
    "print('Libraries loaded!')"
   ]
  },
  {
   "cell_type": "markdown",
   "metadata": {},
   "source": [
    "## Import and Clean Data"
   ]
  },
  {
   "cell_type": "code",
   "execution_count": 32,
   "metadata": {},
   "outputs": [
    {
     "name": "stdout",
     "output_type": "stream",
     "text": [
      "Loading memes...\n",
      "Memes are fully operational!\n"
     ]
    }
   ],
   "source": [
    "print('Loading memes...')\n",
    "\n",
    "# df = pd.read_json('https://s3.us-east-2.amazonaws.com/redditscore/25rows', lines=True)\n",
    "df = pd.read_csv('https://s3.us-east-2.amazonaws.com/redditscore/2500rows.csv')\n",
    "#df = pd.read_csv('https://s3.us-east-2.amazonaws.com/redditscore/2mrows.csv', error_bad_lines=False, engine='python')\n",
    "print('Memes are fully operational!')"
   ]
  },
  {
   "cell_type": "code",
   "execution_count": 33,
   "metadata": {},
   "outputs": [
    {
     "name": "stdout",
     "output_type": "stream",
     "text": [
      "subreddit     object\n",
      "body          object\n",
      "score        float64\n",
      "dtype: object\n"
     ]
    },
    {
     "data": {
      "text/html": [
       "<div>\n",
       "<style scoped>\n",
       "    .dataframe tbody tr th:only-of-type {\n",
       "        vertical-align: middle;\n",
       "    }\n",
       "\n",
       "    .dataframe tbody tr th {\n",
       "        vertical-align: top;\n",
       "    }\n",
       "\n",
       "    .dataframe thead th {\n",
       "        text-align: right;\n",
       "    }\n",
       "</style>\n",
       "<table border=\"1\" class=\"dataframe\">\n",
       "  <thead>\n",
       "    <tr style=\"text-align: right;\">\n",
       "      <th></th>\n",
       "      <th>subreddit</th>\n",
       "      <th>body</th>\n",
       "      <th>score</th>\n",
       "    </tr>\n",
       "  </thead>\n",
       "  <tbody>\n",
       "    <tr>\n",
       "      <th>0</th>\n",
       "      <td>LabVIEW</td>\n",
       "      <td>Seconding this Ive used it on some pretty larg...</td>\n",
       "      <td>1.0</td>\n",
       "    </tr>\n",
       "    <tr>\n",
       "      <th>1</th>\n",
       "      <td>Bitcoin</td>\n",
       "      <td>I am not in debt and I shall rise again to inv...</td>\n",
       "      <td>0.0</td>\n",
       "    </tr>\n",
       "    <tr>\n",
       "      <th>2</th>\n",
       "      <td>worldnews</td>\n",
       "      <td>So that thin crowd was actually Russians? I wa...</td>\n",
       "      <td>7.0</td>\n",
       "    </tr>\n",
       "    <tr>\n",
       "      <th>3</th>\n",
       "      <td>AteTheOnion</td>\n",
       "      <td>[deleted]</td>\n",
       "      <td>8.0</td>\n",
       "    </tr>\n",
       "    <tr>\n",
       "      <th>4</th>\n",
       "      <td>youseeingthisshit</td>\n",
       "      <td>I hope he ran away like a giggling school girl...</td>\n",
       "      <td>5.0</td>\n",
       "    </tr>\n",
       "    <tr>\n",
       "      <th>5</th>\n",
       "      <td>anime_irl</td>\n",
       "      <td>You can just tell that he's trying not to say ...</td>\n",
       "      <td>1.0</td>\n",
       "    </tr>\n",
       "    <tr>\n",
       "      <th>6</th>\n",
       "      <td>NintendoSwitch</td>\n",
       "      <td>Get Zelda</td>\n",
       "      <td>86.0</td>\n",
       "    </tr>\n",
       "    <tr>\n",
       "      <th>7</th>\n",
       "      <td>AskEconomics</td>\n",
       "      <td>[removed]</td>\n",
       "      <td>2.0</td>\n",
       "    </tr>\n",
       "    <tr>\n",
       "      <th>8</th>\n",
       "      <td>mexico</td>\n",
       "      <td>[removed]</td>\n",
       "      <td>1.0</td>\n",
       "    </tr>\n",
       "    <tr>\n",
       "      <th>9</th>\n",
       "      <td>nottheonion</td>\n",
       "      <td>Nobody likes a lingerer</td>\n",
       "      <td>2.0</td>\n",
       "    </tr>\n",
       "  </tbody>\n",
       "</table>\n",
       "</div>"
      ],
      "text/plain": [
       "           subreddit                                               body  score\n",
       "0            LabVIEW  Seconding this Ive used it on some pretty larg...    1.0\n",
       "1            Bitcoin  I am not in debt and I shall rise again to inv...    0.0\n",
       "2          worldnews  So that thin crowd was actually Russians? I wa...    7.0\n",
       "3        AteTheOnion                                          [deleted]    8.0\n",
       "4  youseeingthisshit  I hope he ran away like a giggling school girl...    5.0\n",
       "5          anime_irl  You can just tell that he's trying not to say ...    1.0\n",
       "6     NintendoSwitch                                          Get Zelda   86.0\n",
       "7       AskEconomics                                          [removed]    2.0\n",
       "8             mexico                                          [removed]    1.0\n",
       "9        nottheonion                            Nobody likes a lingerer    2.0"
      ]
     },
     "execution_count": 33,
     "metadata": {},
     "output_type": "execute_result"
    }
   ],
   "source": [
    "print(df.dtypes)\n",
    "df.head(10)"
   ]
  },
  {
   "cell_type": "markdown",
   "metadata": {},
   "source": [
    "Any null values need to be dropped and the score will always be an integer"
   ]
  },
  {
   "cell_type": "code",
   "execution_count": 34,
   "metadata": {},
   "outputs": [],
   "source": [
    "df = df.dropna()\n",
    "df['score'] = df['score'].astype('int')"
   ]
  },
  {
   "cell_type": "code",
   "execution_count": 35,
   "metadata": {},
   "outputs": [
    {
     "data": {
      "text/html": [
       "<div>\n",
       "<style scoped>\n",
       "    .dataframe tbody tr th:only-of-type {\n",
       "        vertical-align: middle;\n",
       "    }\n",
       "\n",
       "    .dataframe tbody tr th {\n",
       "        vertical-align: top;\n",
       "    }\n",
       "\n",
       "    .dataframe thead th {\n",
       "        text-align: right;\n",
       "    }\n",
       "</style>\n",
       "<table border=\"1\" class=\"dataframe\">\n",
       "  <thead>\n",
       "    <tr style=\"text-align: right;\">\n",
       "      <th></th>\n",
       "      <th>subreddit</th>\n",
       "      <th>body</th>\n",
       "      <th>score</th>\n",
       "    </tr>\n",
       "  </thead>\n",
       "  <tbody>\n",
       "    <tr>\n",
       "      <th>0</th>\n",
       "      <td>LabVIEW</td>\n",
       "      <td>Seconding this Ive used it on some pretty larg...</td>\n",
       "      <td>1</td>\n",
       "    </tr>\n",
       "    <tr>\n",
       "      <th>1</th>\n",
       "      <td>Bitcoin</td>\n",
       "      <td>I am not in debt and I shall rise again to inv...</td>\n",
       "      <td>0</td>\n",
       "    </tr>\n",
       "    <tr>\n",
       "      <th>2</th>\n",
       "      <td>worldnews</td>\n",
       "      <td>So that thin crowd was actually Russians? I wa...</td>\n",
       "      <td>7</td>\n",
       "    </tr>\n",
       "    <tr>\n",
       "      <th>3</th>\n",
       "      <td>AteTheOnion</td>\n",
       "      <td>[deleted]</td>\n",
       "      <td>8</td>\n",
       "    </tr>\n",
       "    <tr>\n",
       "      <th>4</th>\n",
       "      <td>youseeingthisshit</td>\n",
       "      <td>I hope he ran away like a giggling school girl...</td>\n",
       "      <td>5</td>\n",
       "    </tr>\n",
       "    <tr>\n",
       "      <th>5</th>\n",
       "      <td>anime_irl</td>\n",
       "      <td>You can just tell that he's trying not to say ...</td>\n",
       "      <td>1</td>\n",
       "    </tr>\n",
       "    <tr>\n",
       "      <th>6</th>\n",
       "      <td>NintendoSwitch</td>\n",
       "      <td>Get Zelda</td>\n",
       "      <td>86</td>\n",
       "    </tr>\n",
       "    <tr>\n",
       "      <th>7</th>\n",
       "      <td>AskEconomics</td>\n",
       "      <td>[removed]</td>\n",
       "      <td>2</td>\n",
       "    </tr>\n",
       "    <tr>\n",
       "      <th>8</th>\n",
       "      <td>mexico</td>\n",
       "      <td>[removed]</td>\n",
       "      <td>1</td>\n",
       "    </tr>\n",
       "    <tr>\n",
       "      <th>9</th>\n",
       "      <td>nottheonion</td>\n",
       "      <td>Nobody likes a lingerer</td>\n",
       "      <td>2</td>\n",
       "    </tr>\n",
       "  </tbody>\n",
       "</table>\n",
       "</div>"
      ],
      "text/plain": [
       "           subreddit                                               body  score\n",
       "0            LabVIEW  Seconding this Ive used it on some pretty larg...      1\n",
       "1            Bitcoin  I am not in debt and I shall rise again to inv...      0\n",
       "2          worldnews  So that thin crowd was actually Russians? I wa...      7\n",
       "3        AteTheOnion                                          [deleted]      8\n",
       "4  youseeingthisshit  I hope he ran away like a giggling school girl...      5\n",
       "5          anime_irl  You can just tell that he's trying not to say ...      1\n",
       "6     NintendoSwitch                                          Get Zelda     86\n",
       "7       AskEconomics                                          [removed]      2\n",
       "8             mexico                                          [removed]      1\n",
       "9        nottheonion                            Nobody likes a lingerer      2"
      ]
     },
     "execution_count": 35,
     "metadata": {},
     "output_type": "execute_result"
    }
   ],
   "source": [
    "df.head(10)"
   ]
  },
  {
   "cell_type": "markdown",
   "metadata": {},
   "source": [
    "## Data Analysis"
   ]
  },
  {
   "cell_type": "code",
   "execution_count": 36,
   "metadata": {},
   "outputs": [
    {
     "data": {
      "text/plain": [
       "count    2466.000000\n",
       "mean        9.634631\n",
       "std       171.808223\n",
       "min       -27.000000\n",
       "25%         1.000000\n",
       "50%         2.000000\n",
       "75%         4.000000\n",
       "max      8450.000000\n",
       "Name: score, dtype: float64"
      ]
     },
     "execution_count": 36,
     "metadata": {},
     "output_type": "execute_result"
    }
   ],
   "source": [
    "df['score'].describe()"
   ]
  },
  {
   "cell_type": "code",
   "execution_count": 37,
   "metadata": {},
   "outputs": [
    {
     "data": {
      "text/plain": [
       "<matplotlib.axes._subplots.AxesSubplot at 0x1b7366024a8>"
      ]
     },
     "execution_count": 37,
     "metadata": {},
     "output_type": "execute_result"
    },
    {
     "data": {
      "image/png": "[encoded data removed]",
      "text/plain": [
       "<matplotlib.figure.Figure at 0x1b7351529b0>"
      ]
     },
     "metadata": {},
     "output_type": "display_data"
    }
   ],
   "source": [
    "sns.distplot(df[\"score\"], kde=False)"
   ]
  },
  {
   "cell_type": "markdown",
   "metadata": {},
   "source": [
    "There is a significant issue with distribution"
   ]
  },
  {
   "cell_type": "markdown",
   "metadata": {},
   "source": [
    "This can be solved with log scaling the score values"
   ]
  },
  {
   "cell_type": "code",
   "execution_count": 38,
   "metadata": {},
   "outputs": [
    {
     "data": {
      "text/plain": [
       "<matplotlib.axes._subplots.AxesSubplot at 0x1b734e7e400>"
      ]
     },
     "execution_count": 38,
     "metadata": {},
     "output_type": "execute_result"
    },
    {
     "data": {
      "image/png": "[encoded data removed]",
      "text/plain": [
       "<matplotlib.figure.Figure at 0x1b7367d5358>"
      ]
     },
     "metadata": {},
     "output_type": "display_data"
    }
   ],
   "source": [
    "mask = df[\"score\"] >= 0\n",
    "sns.distplot(np.log1p(df[\"score\"][mask]), kde=False)"
   ]
  },
  {
   "cell_type": "code",
   "execution_count": 39,
   "metadata": {},
   "outputs": [
    {
     "data": {
      "text/plain": [
       "<matplotlib.axes._subplots.AxesSubplot at 0x1b7367847b8>"
      ]
     },
     "execution_count": 39,
     "metadata": {},
     "output_type": "execute_result"
    },
    {
     "data": {
      "image/png": "[encoded data removed]",
      "text/plain": [
       "<matplotlib.figure.Figure at 0x1b736700cf8>"
      ]
     },
     "metadata": {},
     "output_type": "display_data"
    }
   ],
   "source": [
    "mask = df[\"score\"] < 0\n",
    "sns.distplot(np.log1p(-df[\"score\"][mask]), kde=False)"
   ]
  },
  {
   "cell_type": "markdown",
   "metadata": {},
   "source": [
    "## Logistic Regression Model\n",
    "\n",
    "Firstly we are going to create a logistic regression model to determine if the score is positive, negative or zero.  \n",
    "In order to do this we created a seperate column with those values."
   ]
  },
  {
   "cell_type": "code",
   "execution_count": 40,
   "metadata": {},
   "outputs": [
    {
     "data": {
      "text/html": [
       "<div>\n",
       "<style scoped>\n",
       "    .dataframe tbody tr th:only-of-type {\n",
       "        vertical-align: middle;\n",
       "    }\n",
       "\n",
       "    .dataframe tbody tr th {\n",
       "        vertical-align: top;\n",
       "    }\n",
       "\n",
       "    .dataframe thead th {\n",
       "        text-align: right;\n",
       "    }\n",
       "</style>\n",
       "<table border=\"1\" class=\"dataframe\">\n",
       "  <thead>\n",
       "    <tr style=\"text-align: right;\">\n",
       "      <th></th>\n",
       "      <th>subreddit</th>\n",
       "      <th>body</th>\n",
       "      <th>score</th>\n",
       "      <th>pn_score</th>\n",
       "    </tr>\n",
       "  </thead>\n",
       "  <tbody>\n",
       "    <tr>\n",
       "      <th>0</th>\n",
       "      <td>LabVIEW</td>\n",
       "      <td>Seconding this Ive used it on some pretty larg...</td>\n",
       "      <td>1</td>\n",
       "      <td>positive</td>\n",
       "    </tr>\n",
       "    <tr>\n",
       "      <th>1</th>\n",
       "      <td>Bitcoin</td>\n",
       "      <td>I am not in debt and I shall rise again to inv...</td>\n",
       "      <td>0</td>\n",
       "      <td>zero</td>\n",
       "    </tr>\n",
       "    <tr>\n",
       "      <th>2</th>\n",
       "      <td>worldnews</td>\n",
       "      <td>So that thin crowd was actually Russians? I wa...</td>\n",
       "      <td>7</td>\n",
       "      <td>positive</td>\n",
       "    </tr>\n",
       "    <tr>\n",
       "      <th>3</th>\n",
       "      <td>AteTheOnion</td>\n",
       "      <td>[deleted]</td>\n",
       "      <td>8</td>\n",
       "      <td>positive</td>\n",
       "    </tr>\n",
       "    <tr>\n",
       "      <th>4</th>\n",
       "      <td>youseeingthisshit</td>\n",
       "      <td>I hope he ran away like a giggling school girl...</td>\n",
       "      <td>5</td>\n",
       "      <td>positive</td>\n",
       "    </tr>\n",
       "    <tr>\n",
       "      <th>5</th>\n",
       "      <td>anime_irl</td>\n",
       "      <td>You can just tell that he's trying not to say ...</td>\n",
       "      <td>1</td>\n",
       "      <td>positive</td>\n",
       "    </tr>\n",
       "    <tr>\n",
       "      <th>6</th>\n",
       "      <td>NintendoSwitch</td>\n",
       "      <td>Get Zelda</td>\n",
       "      <td>86</td>\n",
       "      <td>positive</td>\n",
       "    </tr>\n",
       "    <tr>\n",
       "      <th>7</th>\n",
       "      <td>AskEconomics</td>\n",
       "      <td>[removed]</td>\n",
       "      <td>2</td>\n",
       "      <td>positive</td>\n",
       "    </tr>\n",
       "    <tr>\n",
       "      <th>8</th>\n",
       "      <td>mexico</td>\n",
       "      <td>[removed]</td>\n",
       "      <td>1</td>\n",
       "      <td>positive</td>\n",
       "    </tr>\n",
       "    <tr>\n",
       "      <th>9</th>\n",
       "      <td>nottheonion</td>\n",
       "      <td>Nobody likes a lingerer</td>\n",
       "      <td>2</td>\n",
       "      <td>positive</td>\n",
       "    </tr>\n",
       "  </tbody>\n",
       "</table>\n",
       "</div>"
      ],
      "text/plain": [
       "           subreddit                                               body  \\\n",
       "0            LabVIEW  Seconding this Ive used it on some pretty larg...   \n",
       "1            Bitcoin  I am not in debt and I shall rise again to inv...   \n",
       "2          worldnews  So that thin crowd was actually Russians? I wa...   \n",
       "3        AteTheOnion                                          [deleted]   \n",
       "4  youseeingthisshit  I hope he ran away like a giggling school girl...   \n",
       "5          anime_irl  You can just tell that he's trying not to say ...   \n",
       "6     NintendoSwitch                                          Get Zelda   \n",
       "7       AskEconomics                                          [removed]   \n",
       "8             mexico                                          [removed]   \n",
       "9        nottheonion                            Nobody likes a lingerer   \n",
       "\n",
       "   score  pn_score  \n",
       "0      1  positive  \n",
       "1      0      zero  \n",
       "2      7  positive  \n",
       "3      8  positive  \n",
       "4      5  positive  \n",
       "5      1  positive  \n",
       "6     86  positive  \n",
       "7      2  positive  \n",
       "8      1  positive  \n",
       "9      2  positive  "
      ]
     },
     "execution_count": 40,
     "metadata": {},
     "output_type": "execute_result"
    }
   ],
   "source": [
    "df['pn_score'] = \"\"\n",
    "\n",
    "for i in df['score'].index:\n",
    "    if  df['score'].at[i] > 0:\n",
    "        df['pn_score'].at[i] = 'positive'\n",
    "    elif float(df['score'].at[i]) < 0:\n",
    "        df['pn_score'].at[i] = 'negative'\n",
    "    else:\n",
    "        df['pn_score'].at[i] = 'zero'  \n",
    "\n",
    "df.head(10)"
   ]
  },
  {
   "cell_type": "code",
   "execution_count": 41,
   "metadata": {},
   "outputs": [
    {
     "name": "stdout",
     "output_type": "stream",
     "text": [
      "positive    2284\n",
      "negative      99\n",
      "zero          83\n",
      "Name: pn_score, dtype: int64\n"
     ]
    },
    {
     "data": {
      "text/plain": [
       "Text(0,0.5,'Number of Samples')"
      ]
     },
     "execution_count": 41,
     "metadata": {},
     "output_type": "execute_result"
    },
    {
     "data": {
      "image/png": "[encoded data removed]",
      "text/plain": [
       "<matplotlib.figure.Figure at 0x1b7368972e8>"
      ]
     },
     "metadata": {},
     "output_type": "display_data"
    }
   ],
   "source": [
    "pn_counts = df['pn_score'].value_counts()\n",
    "print(pn_counts)\n",
    "pn_counts.plot.bar()\n",
    "plt.ylabel(\"Number of Samples\", fontsize=16)"
   ]
  },
  {
   "cell_type": "markdown",
   "metadata": {},
   "source": [
    "Again there is an issue with distribution here, so startifying the data is very important in this case"
   ]
  },
  {
   "cell_type": "code",
   "execution_count": 42,
   "metadata": {},
   "outputs": [
    {
     "name": "stdout",
     "output_type": "stream",
     "text": [
      "(2466, 1130)\n"
     ]
    }
   ],
   "source": [
    "log_vect = TfidfVectorizer(max_df = 0.95, min_df = 5, binary=True, stop_words='english')\n",
    "text_features = log_vect.fit_transform(df.body)\n",
    "print(text_features.shape)"
   ]
  },
  {
   "cell_type": "code",
   "execution_count": 43,
   "metadata": {},
   "outputs": [
    {
     "data": {
      "text/plain": [
       "['used',\n",
       " 'pretty',\n",
       " 'large',\n",
       " 'data',\n",
       " 'issue',\n",
       " 'invest',\n",
       " 'god',\n",
       " 'willing',\n",
       " 'actually',\n",
       " 'joke']"
      ]
     },
     "execution_count": 43,
     "metadata": {},
     "output_type": "execute_result"
    }
   ],
   "source": [
    "list(log_vect.vocabulary_)[:10]"
   ]
  },
  {
   "cell_type": "code",
   "execution_count": 44,
   "metadata": {},
   "outputs": [
    {
     "name": "stdout",
     "output_type": "stream",
     "text": [
      "[1 1 1 ... 1 1 1]\n",
      "Accuracy: 0.9254457050243112\n",
      "Classes: ['negative' 'positive' 'zero']\n",
      "Confusion Matrix:\n",
      "[[  0  25   0]\n",
      " [  0 571   0]\n",
      " [  0  21   0]]\n"
     ]
    }
   ],
   "source": [
    "encoder = LabelEncoder()\n",
    "numerical_labels = encoder.fit_transform(df['pn_score'])\n",
    "\n",
    "training_X, testing_X, training_y, testing_y = train_test_split(text_features,\n",
    "                                                               numerical_labels,\n",
    "                                                               stratify=numerical_labels)\n",
    "print(training_y)\n",
    "\n",
    "logistic_regression = SGDClassifier(loss=\"log\", penalty=\"l2\", max_iter=1500)\n",
    "logistic_regression.fit(training_X, training_y)\n",
    "pred_labels = logistic_regression.predict(testing_X)\n",
    "\n",
    "accuracy = accuracy_score(testing_y, pred_labels)\n",
    "cm = confusion_matrix(testing_y, pred_labels)\n",
    "\n",
    "print(\"Accuracy:\", accuracy)\n",
    "print(\"Classes:\", str(encoder.classes_))\n",
    "print(\"Confusion Matrix:\")\n",
    "print(cm)"
   ]
  },
  {
   "cell_type": "markdown",
   "metadata": {},
   "source": [
    "## Linear Regression Models\n",
    "### Positive Scores"
   ]
  },
  {
   "cell_type": "code",
   "execution_count": 45,
   "metadata": {},
   "outputs": [
    {
     "data": {
      "text/html": [
       "<div>\n",
       "<style scoped>\n",
       "    .dataframe tbody tr th:only-of-type {\n",
       "        vertical-align: middle;\n",
       "    }\n",
       "\n",
       "    .dataframe tbody tr th {\n",
       "        vertical-align: top;\n",
       "    }\n",
       "\n",
       "    .dataframe thead th {\n",
       "        text-align: right;\n",
       "    }\n",
       "</style>\n",
       "<table border=\"1\" class=\"dataframe\">\n",
       "  <thead>\n",
       "    <tr style=\"text-align: right;\">\n",
       "      <th></th>\n",
       "      <th>subreddit</th>\n",
       "      <th>body</th>\n",
       "      <th>score</th>\n",
       "      <th>pn_score</th>\n",
       "    </tr>\n",
       "  </thead>\n",
       "  <tbody>\n",
       "    <tr>\n",
       "      <th>0</th>\n",
       "      <td>LabVIEW</td>\n",
       "      <td>Seconding this Ive used it on some pretty larg...</td>\n",
       "      <td>1</td>\n",
       "      <td>positive</td>\n",
       "    </tr>\n",
       "    <tr>\n",
       "      <th>2</th>\n",
       "      <td>worldnews</td>\n",
       "      <td>So that thin crowd was actually Russians? I wa...</td>\n",
       "      <td>7</td>\n",
       "      <td>positive</td>\n",
       "    </tr>\n",
       "    <tr>\n",
       "      <th>3</th>\n",
       "      <td>AteTheOnion</td>\n",
       "      <td>[deleted]</td>\n",
       "      <td>8</td>\n",
       "      <td>positive</td>\n",
       "    </tr>\n",
       "    <tr>\n",
       "      <th>4</th>\n",
       "      <td>youseeingthisshit</td>\n",
       "      <td>I hope he ran away like a giggling school girl...</td>\n",
       "      <td>5</td>\n",
       "      <td>positive</td>\n",
       "    </tr>\n",
       "    <tr>\n",
       "      <th>5</th>\n",
       "      <td>anime_irl</td>\n",
       "      <td>You can just tell that he's trying not to say ...</td>\n",
       "      <td>1</td>\n",
       "      <td>positive</td>\n",
       "    </tr>\n",
       "  </tbody>\n",
       "</table>\n",
       "</div>"
      ],
      "text/plain": [
       "           subreddit                                               body  \\\n",
       "0            LabVIEW  Seconding this Ive used it on some pretty larg...   \n",
       "2          worldnews  So that thin crowd was actually Russians? I wa...   \n",
       "3        AteTheOnion                                          [deleted]   \n",
       "4  youseeingthisshit  I hope he ran away like a giggling school girl...   \n",
       "5          anime_irl  You can just tell that he's trying not to say ...   \n",
       "\n",
       "   score  pn_score  \n",
       "0      1  positive  \n",
       "2      7  positive  \n",
       "3      8  positive  \n",
       "4      5  positive  \n",
       "5      1  positive  "
      ]
     },
     "execution_count": 45,
     "metadata": {},
     "output_type": "execute_result"
    }
   ],
   "source": [
    "pos_score_df = df[df.pn_score == 'positive']\n",
    "\n",
    "pos_score_df.head()"
   ]
  },
  {
   "cell_type": "code",
   "execution_count": 46,
   "metadata": {},
   "outputs": [
    {
     "name": "stdout",
     "output_type": "stream",
     "text": [
      "(2284, 1064)\n"
     ]
    }
   ],
   "source": [
    "pos_vect = TfidfVectorizer(max_df = 0.95, min_df = 5, binary=True, stop_words='english')\n",
    "text_features = pos_vect.fit_transform(pos_score_df.body)\n",
    "print(text_features.shape)"
   ]
  },
  {
   "cell_type": "code",
   "execution_count": 47,
   "metadata": {},
   "outputs": [
    {
     "data": {
      "text/plain": [
       "['used',\n",
       " 'pretty',\n",
       " 'large',\n",
       " 'issue',\n",
       " 'actually',\n",
       " 'joke',\n",
       " 'turns',\n",
       " 'deleted',\n",
       " 'hope',\n",
       " 'away']"
      ]
     },
     "execution_count": 47,
     "metadata": {},
     "output_type": "execute_result"
    }
   ],
   "source": [
    "list(pos_vect.vocabulary_)[:10]"
   ]
  },
  {
   "cell_type": "code",
   "execution_count": 48,
   "metadata": {},
   "outputs": [
    {
     "name": "stdout",
     "output_type": "stream",
     "text": [
      "\n",
      "Positive Score Model MSE: 0.7907406183843703\n",
      "Positive Score Model RMSE: 0.889235974522157\n"
     ]
    }
   ],
   "source": [
    "X_train, X_test, y_train, y_test = train_test_split(text_features, np.log1p(pos_score_df['score']))\n",
    "\n",
    "pos_linear_regression = SGDRegressor(max_iter=1500)\n",
    "pos_linear_regression.fit(X_train, y_train)\n",
    "test = pos_linear_regression.predict(X_test)\n",
    "mse = mean_squared_error(y_test, test)\n",
    "rmse = np.sqrt(mse)\n",
    "print()\n",
    "print(\"Positive Score Model MSE:\", mse)\n",
    "print(\"Positive Score Model RMSE:\", rmse)"
   ]
  },
  {
   "cell_type": "markdown",
   "metadata": {},
   "source": [
    "### Negative Scores"
   ]
  },
  {
   "cell_type": "code",
   "execution_count": 49,
   "metadata": {},
   "outputs": [
    {
     "data": {
      "text/html": [
       "<div>\n",
       "<style scoped>\n",
       "    .dataframe tbody tr th:only-of-type {\n",
       "        vertical-align: middle;\n",
       "    }\n",
       "\n",
       "    .dataframe tbody tr th {\n",
       "        vertical-align: top;\n",
       "    }\n",
       "\n",
       "    .dataframe thead th {\n",
       "        text-align: right;\n",
       "    }\n",
       "</style>\n",
       "<table border=\"1\" class=\"dataframe\">\n",
       "  <thead>\n",
       "    <tr style=\"text-align: right;\">\n",
       "      <th></th>\n",
       "      <th>subreddit</th>\n",
       "      <th>body</th>\n",
       "      <th>score</th>\n",
       "      <th>pn_score</th>\n",
       "    </tr>\n",
       "  </thead>\n",
       "  <tbody>\n",
       "    <tr>\n",
       "      <th>15</th>\n",
       "      <td>nfl</td>\n",
       "      <td>Defense won't win you championships anymore. I...</td>\n",
       "      <td>-8</td>\n",
       "      <td>negative</td>\n",
       "    </tr>\n",
       "    <tr>\n",
       "      <th>30</th>\n",
       "      <td>IdiotsInCars</td>\n",
       "      <td>I came here to say this! Regardless of opinion...</td>\n",
       "      <td>-18</td>\n",
       "      <td>negative</td>\n",
       "    </tr>\n",
       "    <tr>\n",
       "      <th>43</th>\n",
       "      <td>GlobalOffensive</td>\n",
       "      <td>but they knew the day the event was. go the da...</td>\n",
       "      <td>-1</td>\n",
       "      <td>negative</td>\n",
       "    </tr>\n",
       "    <tr>\n",
       "      <th>49</th>\n",
       "      <td>mountandblade</td>\n",
       "      <td>[deleted]</td>\n",
       "      <td>-7</td>\n",
       "      <td>negative</td>\n",
       "    </tr>\n",
       "    <tr>\n",
       "      <th>84</th>\n",
       "      <td>formula1</td>\n",
       "      <td>Sarcasm is generally supposed to be humorous b...</td>\n",
       "      <td>-3</td>\n",
       "      <td>negative</td>\n",
       "    </tr>\n",
       "  </tbody>\n",
       "</table>\n",
       "</div>"
      ],
      "text/plain": [
       "          subreddit                                               body  score  \\\n",
       "15              nfl  Defense won't win you championships anymore. I...     -8   \n",
       "30     IdiotsInCars  I came here to say this! Regardless of opinion...    -18   \n",
       "43  GlobalOffensive  but they knew the day the event was. go the da...     -1   \n",
       "49    mountandblade                                          [deleted]     -7   \n",
       "84         formula1  Sarcasm is generally supposed to be humorous b...     -3   \n",
       "\n",
       "    pn_score  \n",
       "15  negative  \n",
       "30  negative  \n",
       "43  negative  \n",
       "49  negative  \n",
       "84  negative  "
      ]
     },
     "execution_count": 49,
     "metadata": {},
     "output_type": "execute_result"
    }
   ],
   "source": [
    "neg_score_df = df[df.pn_score == 'negative']\n",
    "\n",
    "neg_score_df.head()"
   ]
  },
  {
   "cell_type": "code",
   "execution_count": 50,
   "metadata": {},
   "outputs": [
    {
     "name": "stdout",
     "output_type": "stream",
     "text": [
      "(99, 7)\n"
     ]
    }
   ],
   "source": [
    "neg_vect = TfidfVectorizer(max_df = 0.95, min_df = 5, binary=True, stop_words='english')\n",
    "text_features = neg_vect.fit_transform(neg_score_df.body)\n",
    "print(text_features.shape)"
   ]
  },
  {
   "cell_type": "code",
   "execution_count": 51,
   "metadata": {},
   "outputs": [
    {
     "data": {
      "text/plain": [
       "['deleted', 'know', 'like', 'just', 'people', 'sure', 'don']"
      ]
     },
     "execution_count": 51,
     "metadata": {},
     "output_type": "execute_result"
    }
   ],
   "source": [
    "list(neg_vect.vocabulary_)[:10]"
   ]
  },
  {
   "cell_type": "code",
   "execution_count": 54,
   "metadata": {},
   "outputs": [
    {
     "name": "stdout",
     "output_type": "stream",
     "text": [
      "\n",
      "Negative Score Model MSE: 0.6601192039232506\n",
      "Negative Score Model RMSE: 0.8124772020944653\n"
     ]
    }
   ],
   "source": [
    "X_train, X_test, y_train, y_test = train_test_split(text_features, -np.log1p(-neg_score_df[\"score\"]))\n",
    "\n",
    "neg_linear_regression = SGDRegressor(max_iter=1500)\n",
    "neg_linear_regression.fit(X_train, y_train)\n",
    "test = neg_linear_regression.predict(X_test)\n",
    "mse = mean_squared_error(y_test, test)\n",
    "rmse = np.sqrt(mse)\n",
    "print()\n",
    "print(\"Negative Score Model MSE:\", mse)\n",
    "print(\"Negative Score Model RMSE:\", rmse)"
   ]
  },
  {
   "cell_type": "markdown",
   "metadata": {},
   "source": [
    "## Combining Models\n",
    "\n",
    "First the logistic regression model will be used to preditc whether or not the score is negative or positive, then depending on the outcome the appropriate linear regression model will be used to predict the score value"
   ]
  },
  {
   "cell_type": "code",
   "execution_count": 53,
   "metadata": {},
   "outputs": [
    {
     "name": "stdout",
     "output_type": "stream",
     "text": [
      "Logistic Result: \n",
      "[1]\n",
      "\n",
      "Linear Result: \n",
      "[1.72853979]\n"
     ]
    }
   ],
   "source": [
    "a = ([\"Absolutely brutal episode I followed the show with my roommates  We all watched it recorded but the day it came out and had about 6 people together. All deep fans all super excited at new episodes and very \"])\n",
    "\n",
    "logistic_result = logistic_regression.predict(log_vect.transform(a))\n",
    "print('Logistic Result: ')\n",
    "print(logistic_result)\n",
    "print()\n",
    "\n",
    "if(logistic_result) == 1:\n",
    "    linear_result = pos_linear_regression.predict(pos_vect.transform(a))\n",
    "    print('Linear Result: ')\n",
    "    print(linear_result)\n",
    "elif(logistic_result) == 0:\n",
    "    linear_result = pos_linear_regression.predict(pos_vect.transform(a))\n",
    "    print('Linear Result: ')\n",
    "    print(linear_result)"
   ]
  }
 ],
 "metadata": {
  "kernelspec": {
   "display_name": "Python 3",
   "language": "python",
   "name": "python3"
  },
  "language_info": {
   "codemirror_mode": {
    "name": "ipython",
    "version": 3
   },
   "file_extension": ".py",
   "mimetype": "text/x-python",
   "name": "python",
   "nbconvert_exporter": "python",
   "pygments_lexer": "ipython3",
   "version": "3.6.4"
  }
 },
 "nbformat": 4,
 "nbformat_minor": 2
}
